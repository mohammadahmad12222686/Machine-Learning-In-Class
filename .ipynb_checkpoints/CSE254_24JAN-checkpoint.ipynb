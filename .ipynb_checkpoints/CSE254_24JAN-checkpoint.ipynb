{
 "cells": [
  {
   "cell_type": "code",
   "execution_count": 31,
   "id": "cd9a3666-927c-41a0-adb5-bf4ab767fdc8",
   "metadata": {},
   "outputs": [
    {
     "name": "stdin",
     "output_type": "stream",
     "text": [
      " 4\n",
      " 5\n",
      " +\n"
     ]
    },
    {
     "ename": "TypeError",
     "evalue": "'str' object cannot be interpreted as an integer",
     "output_type": "error",
     "traceback": [
      "\u001b[1;31m---------------------------------------------------------------------------\u001b[0m",
      "\u001b[1;31mTypeError\u001b[0m                                 Traceback (most recent call last)",
      "Cell \u001b[1;32mIn[31], line 3\u001b[0m\n\u001b[0;32m      1\u001b[0m x\u001b[38;5;241m=\u001b[39m\u001b[38;5;28mint\u001b[39m(\u001b[38;5;28minput\u001b[39m())\n\u001b[0;32m      2\u001b[0m y\u001b[38;5;241m=\u001b[39m\u001b[38;5;28mint\u001b[39m(\u001b[38;5;28minput\u001b[39m())\n\u001b[1;32m----> 3\u001b[0m z\u001b[38;5;241m=\u001b[39m\u001b[38;5;28mchr\u001b[39m(\u001b[38;5;28minput\u001b[39m())\n\u001b[0;32m      6\u001b[0m \u001b[38;5;28;01mdef\u001b[39;00m \u001b[38;5;21mcal\u001b[39m(a,b,c):\n\u001b[0;32m      7\u001b[0m     \u001b[38;5;28;01mif\u001b[39;00m(c\u001b[38;5;241m==\u001b[39m\u001b[38;5;124m'\u001b[39m\u001b[38;5;124m+\u001b[39m\u001b[38;5;124m'\u001b[39m):\n",
      "\u001b[1;31mTypeError\u001b[0m: 'str' object cannot be interpreted as an integer"
     ]
    }
   ],
   "source": [
    "x=int(input())\n",
    "y=int(input())\n",
    "z=chr(input())\n",
    "\n",
    "\n",
    "def cal(a,b,c):\n",
    "    if(c=='+'):\n",
    "        print(a+b)\n",
    "    if(c=='-'):\n",
    "        print(a-b)\n",
    "    if(c=='*'):\n",
    "        print(a*b)\n",
    "    if(c=='%'):\n",
    "        print(a%b)\n",
    "        \n",
    "cal(x,y,z)        \n",
    " "
   ]
  },
  {
   "cell_type": "code",
   "execution_count": 4,
   "id": "749e9c41-e0ca-470e-875c-fb88f42bc450",
   "metadata": {},
   "outputs": [
    {
     "name": "stdout",
     "output_type": "stream",
     "text": [
      "[[0.760936   0.56866004 0.89295753 0.31877331]\n",
      " [0.77845085 0.82431318 0.27705893 0.35032016]\n",
      " [0.12673791 0.77585148 0.05539416 0.43835179]\n",
      " [0.96610938 0.98312336 0.67949035 0.85976065]\n",
      " [0.71210274 0.25846834 0.33702997 0.15237045]]\n",
      "[[0.93508484 0.16028602 0.20172995 0.38331686]\n",
      " [0.91283045 0.23899362 0.16552335 0.75840765]\n",
      " [0.89575466 0.69813169 0.41148901 0.26354257]\n",
      " [0.88454175 0.45290522 0.59466399 0.48707447]\n",
      " [0.59687279 0.02358834 0.54584068 0.77091576]]\n",
      "[[1.69602084 0.72894606 1.09468748 0.70209018]\n",
      " [1.69128129 1.0633068  0.44258228 1.10872781]\n",
      " [1.02249257 1.47398317 0.46688318 0.70189435]\n",
      " [1.85065113 1.43602859 1.27415435 1.34683512]\n",
      " [1.30897553 0.28205668 0.88287065 0.92328621]]\n"
     ]
    }
   ],
   "source": [
    "import numpy as np\n",
    "\n",
    "a=np.random.rand(5,4)\n",
    "b=np.random.rand(5,4)\n",
    "c=a+b\n",
    "print(a)\n",
    "print(b)\n",
    "print(c)\n"
   ]
  },
  {
   "cell_type": "code",
   "execution_count": 26,
   "id": "cf86be8c-498e-41a6-83df-4f9eff47f29c",
   "metadata": {},
   "outputs": [
    {
     "name": "stdout",
     "output_type": "stream",
     "text": [
      "(2, 1)\n"
     ]
    }
   ],
   "source": [
    "import numpy as np\n",
    "x=np.array([[1],[2]])\n",
    "\n",
    "print(x.shape)"
   ]
  },
  {
   "cell_type": "code",
   "execution_count": 12,
   "id": "e3ee12e1-bd39-44ea-9ad7-e01e2946f5d1",
   "metadata": {},
   "outputs": [
    {
     "name": "stdout",
     "output_type": "stream",
     "text": [
      "[2 3 4]\n"
     ]
    }
   ],
   "source": [
    "x=np.array((2,3,4,))\n",
    "print(x)"
   ]
  },
  {
   "cell_type": "code",
   "execution_count": 13,
   "id": "108fd5cf-f04c-471c-9fab-c3a8108594d7",
   "metadata": {},
   "outputs": [
    {
     "data": {
      "text/plain": [
       "(3,)"
      ]
     },
     "execution_count": 13,
     "metadata": {},
     "output_type": "execute_result"
    }
   ],
   "source": [
    "x.shape"
   ]
  },
  {
   "cell_type": "code",
   "execution_count": 14,
   "id": "6b88a6d2-1a43-456f-96a0-48dda86271db",
   "metadata": {},
   "outputs": [
    {
     "name": "stdout",
     "output_type": "stream",
     "text": [
      "[[[0.25627068 0.2543778  0.03576148 0.30386634]\n",
      "  [0.84893507 0.04445742 0.08854726 0.89728211]\n",
      "  [0.32309575 0.81058624 0.89382881 0.1068559 ]]\n",
      "\n",
      " [[0.25625365 0.18239546 0.24085667 0.88911546]\n",
      "  [0.22862339 0.2299239  0.84187776 0.10700497]\n",
      "  [0.52349951 0.14390316 0.6415883  0.91718078]]]\n",
      "[[[0.77892274 0.36472006 0.27018563 0.89116281]\n",
      "  [0.08771606 0.07329568 0.41891687 0.57337454]\n",
      "  [0.04230166 0.05544365 0.58425074 0.59907411]]\n",
      "\n",
      " [[0.859879   0.03779078 0.028472   0.60236463]\n",
      "  [0.74211778 0.86471111 0.05106917 0.48164044]\n",
      "  [0.29118992 0.68678887 0.90194718 0.07290841]]]\n",
      "[[[1.03519342 0.61909786 0.30594711 1.19502915]\n",
      "  [0.93665113 0.11775309 0.50746413 1.47065666]\n",
      "  [0.36539741 0.86602988 1.47807954 0.70593001]]\n",
      "\n",
      " [[1.11613265 0.22018624 0.26932867 1.49148009]\n",
      "  [0.97074117 1.094635   0.89294693 0.58864541]\n",
      "  [0.81468943 0.83069203 1.54353548 0.99008919]]]\n"
     ]
    }
   ],
   "source": [
    "import numpy as np\n",
    "\n",
    "a=np.random.rand(2,3,4)\n",
    "b=np.random.rand(2,3,4)\n",
    "c=a+b\n",
    "print(a)\n",
    "print(b)\n",
    "print(c)\n"
   ]
  },
  {
   "cell_type": "code",
   "execution_count": 16,
   "id": "2e3bf166-1cd3-4633-a3f0-1e27d43b25cc",
   "metadata": {},
   "outputs": [
    {
     "data": {
      "text/plain": [
       "array([[[1.03519342, 0.61909786, 0.30594711, 1.19502915],\n",
       "        [0.93665113, 0.11775309, 0.50746413, 1.47065666],\n",
       "        [0.36539741, 0.86602988, 1.47807954, 0.70593001]],\n",
       "\n",
       "       [[1.11613265, 0.22018624, 0.26932867, 1.49148009],\n",
       "        [0.97074117, 1.094635  , 0.89294693, 0.58864541],\n",
       "        [0.81468943, 0.83069203, 1.54353548, 0.99008919]]])"
      ]
     },
     "execution_count": 16,
     "metadata": {},
     "output_type": "execute_result"
    }
   ],
   "source": [
    "np.add(a,b)"
   ]
  },
  {
   "cell_type": "code",
   "execution_count": 17,
   "id": "7bf0c5f8-87c4-4686-9706-743c12cebfea",
   "metadata": {},
   "outputs": [
    {
     "name": "stdout",
     "output_type": "stream",
     "text": [
      "[[[0.25627068 0.2543778  0.03576148 0.30386634]\n",
      "  [0.84893507 0.04445742 0.08854726 0.89728211]\n",
      "  [0.32309575 0.81058624 0.89382881 0.1068559 ]]\n",
      "\n",
      " [[0.25625365 0.18239546 0.24085667 0.88911546]\n",
      "  [0.22862339 0.2299239  0.84187776 0.10700497]\n",
      "  [0.52349951 0.14390316 0.6415883  0.91718078]]]\n",
      "[[[1.2813534  1.271889   0.17880742 1.51933172]\n",
      "  [4.24467537 0.22228708 0.4427363  4.48641056]\n",
      "  [1.61547877 4.05293118 4.46914404 0.5342795 ]]\n",
      "\n",
      " [[1.28126823 0.91197731 1.20428334 4.44557729]\n",
      "  [1.14311697 1.14961948 4.20938878 0.53502483]\n",
      "  [2.61749755 0.7195158  3.20794151 4.58590391]]]\n"
     ]
    }
   ],
   "source": [
    "s=a*5\n",
    "print(a)\n",
    "print(s)"
   ]
  },
  {
   "cell_type": "code",
   "execution_count": 21,
   "id": "82f996f6-743f-4c6a-a4c6-0ab45ceebcb2",
   "metadata": {},
   "outputs": [
    {
     "name": "stdin",
     "output_type": "stream",
     "text": [
      " 4\n",
      " 5\n",
      " 6\n"
     ]
    }
   ],
   "source": [
    "# a=int(input())\n",
    "# b=int(input())\n",
    "# h=int(input())\n",
    "# x=np.random.rand(a,b,h)\n",
    "# y=np.random.rand(a,b,h)\n",
    "\n",
    "\n",
    "\n"
   ]
  },
  {
   "cell_type": "code",
   "execution_count": 28,
   "id": "42be1e1e-b96a-48cd-b7e4-887ff75e0275",
   "metadata": {},
   "outputs": [
    {
     "name": "stdout",
     "output_type": "stream",
     "text": [
      "[[3.01999903 0.96463877 2.50180145]\n",
      " [3.45816839 1.39549978 0.42182633]]\n"
     ]
    }
   ],
   "source": [
    "import numpy as np\n",
    "a,b=2,3\n",
    "x,y=np.random.rand(2,3),np.random.rand(2,3)\n",
    "print(a*x+b*y)"
   ]
  },
  {
   "cell_type": "code",
   "execution_count": 34,
   "id": "b8deb93c-4d89-49dc-8793-bc32d66014b4",
   "metadata": {},
   "outputs": [
    {
     "data": {
      "text/plain": [
       "array([[0.19054367, 0.44576641, 0.44537387],\n",
       "       [0.13258749, 0.09014283, 0.08486279],\n",
       "       [0.47044425, 0.59684156, 0.58441004]])"
      ]
     },
     "execution_count": 34,
     "metadata": {},
     "output_type": "execute_result"
    }
   ],
   "source": [
    "import numpy as np\n",
    "a,b=2,3\n",
    "x,y=np.random.rand(2,3),np.random.rand(2,3)\n",
    "x.T@y"
   ]
  },
  {
   "cell_type": "code",
   "execution_count": 36,
   "id": "9bde2541-ad5d-48b7-83d4-fa35b07a6b31",
   "metadata": {},
   "outputs": [],
   "source": [
    "##Norms Concept\n",
    "Refer: https://builtin.com/data-science/vector-norms"
   ]
  },
  {
   "cell_type": "code",
   "execution_count": 42,
   "id": "3b5bb490-eb4a-487d-8c06-555509888371",
   "metadata": {},
   "outputs": [
    {
     "data": {
      "text/plain": [
       "5.0"
      ]
     },
     "execution_count": 42,
     "metadata": {},
     "output_type": "execute_result"
    }
   ],
   "source": [
    "# Euclidian Norm\n",
    "x=np.array([[3],[-4]])\n",
    "np.linalg.norm(x,2) "
   ]
  },
  {
   "cell_type": "code",
   "execution_count": 43,
   "id": "dc02dbdb-621a-4baf-bbfd-2f81279eedba",
   "metadata": {},
   "outputs": [
    {
     "data": {
      "text/plain": [
       "7.0"
      ]
     },
     "execution_count": 43,
     "metadata": {},
     "output_type": "execute_result"
    }
   ],
   "source": [
    "#Manhattan Norm\n",
    "np.linalg.norm(x,1)"
   ]
  },
  {
   "cell_type": "code",
   "execution_count": 45,
   "id": "fc2f7b5c-1de1-43f3-83ee-0aa7157f03c5",
   "metadata": {},
   "outputs": [
    {
     "data": {
      "text/plain": [
       "4.0"
      ]
     },
     "execution_count": 45,
     "metadata": {},
     "output_type": "execute_result"
    }
   ],
   "source": [
    "# Max Norm\n",
    "np.linalg.norm(x,np.inf)"
   ]
  },
  {
   "cell_type": "code",
   "execution_count": 46,
   "id": "688696d1-8f87-49b6-93c4-40cfe26eb9ff",
   "metadata": {},
   "outputs": [
    {
     "data": {
      "text/plain": [
       "6.0827625302982185"
      ]
     },
     "execution_count": 46,
     "metadata": {},
     "output_type": "execute_result"
    }
   ],
   "source": [
    "x,y=np.array([[3],[-4]]),np.array([[3],[2]])\n",
    "np.linalg.norm(x-2,2)"
   ]
  },
  {
   "cell_type": "code",
   "execution_count": 48,
   "id": "093797af-1eda-4509-a2bb-5e69196ec93c",
   "metadata": {},
   "outputs": [
    {
     "name": "stdout",
     "output_type": "stream",
     "text": [
      "[[-0.20952909]]\n"
     ]
    }
   ],
   "source": [
    "#Vector angle\n",
    "x,y=np.array([[1],[2]]),np.array([[5],[-4]])\n",
    "cos_theta=(x.T@y)/((np.linalg.norm(x,2))*(np.linalg.norm(y,2)))\n",
    "print(cos_theta)"
   ]
  },
  {
   "cell_type": "code",
   "execution_count": 50,
   "id": "a7e11c85-db67-475e-b321-94b6935168e2",
   "metadata": {},
   "outputs": [
    {
     "name": "stdout",
     "output_type": "stream",
     "text": [
      "[[1.78188966]]\n"
     ]
    }
   ],
   "source": [
    "cos_inverse=np.arccos(cos_theta)\n",
    "print(cos_inverse)"
   ]
  },
  {
   "cell_type": "code",
   "execution_count": 51,
   "id": "adb8bec2-e929-4b08-97dc-bd627fd4446f",
   "metadata": {},
   "outputs": [],
   "source": [
    "degree=cos_inverse*((180)/np.pi)"
   ]
  },
  {
   "cell_type": "code",
   "execution_count": 52,
   "id": "e5789f06-0eb0-483d-ae5a-c26b17aa3503",
   "metadata": {},
   "outputs": [
    {
     "name": "stdout",
     "output_type": "stream",
     "text": [
      "[[102.09475708]]\n"
     ]
    }
   ],
   "source": [
    "print(degree)"
   ]
  },
  {
   "cell_type": "code",
   "execution_count": 55,
   "id": "11708ef2-b742-491b-b7f5-8d04d09e097f",
   "metadata": {},
   "outputs": [
    {
     "name": "stdout",
     "output_type": "stream",
     "text": [
      "[[-1.]]\n",
      "[[3.14159263]]\n",
      "[[179.99999879]]\n"
     ]
    }
   ],
   "source": [
    "x,y=np.array([[1],[2]]),np.array([[-1],[-2]])\n",
    "cos_theta=(x.T@y)/((np.linalg.norm(x,2))*(np.linalg.norm(y,2)))\n",
    "print(cos_theta)\n",
    "cos_inverse=np.arccos(cos_theta)\n",
    "print(cos_inverse)\n",
    "degree=cos_inverse*((180)/np.pi)\n",
    "print(degree)"
   ]
  },
  {
   "cell_type": "code",
   "execution_count": 58,
   "id": "05386847-fe85-46bb-9690-b48d320655d4",
   "metadata": {},
   "outputs": [
    {
     "name": "stdout",
     "output_type": "stream",
     "text": [
      "[[-0.6]]\n",
      "[[2.21429744]]\n",
      "[[126.86989765]]\n"
     ]
    }
   ],
   "source": [
    "x,y=np.array([[1],[2]]),np.array([[1],[-2]])\n",
    "cos_theta=(x.T@y)/((np.linalg.norm(x,2))*(np.linalg.norm(y,2)))\n",
    "print(cos_theta)\n",
    "cos_inverse=np.arccos(cos_theta)\n",
    "print(cos_inverse)\n",
    "degree=cos_inverse*((180)/np.pi)\n",
    "print(degree)"
   ]
  },
  {
   "cell_type": "code",
   "execution_count": null,
   "id": "7139dcf9-8260-42ec-aea8-a16fa330c95a",
   "metadata": {},
   "outputs": [],
   "source": []
  }
 ],
 "metadata": {
  "kernelspec": {
   "display_name": "Python 3 (ipykernel)",
   "language": "python",
   "name": "python3"
  },
  "language_info": {
   "codemirror_mode": {
    "name": "ipython",
    "version": 3
   },
   "file_extension": ".py",
   "mimetype": "text/x-python",
   "name": "python",
   "nbconvert_exporter": "python",
   "pygments_lexer": "ipython3",
   "version": "3.11.5"
  }
 },
 "nbformat": 4,
 "nbformat_minor": 5
}
