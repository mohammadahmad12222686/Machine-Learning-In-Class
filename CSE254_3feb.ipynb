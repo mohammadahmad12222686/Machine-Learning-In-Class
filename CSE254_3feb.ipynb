{
 "cells": [
  {
   "cell_type": "code",
   "execution_count": 4,
   "id": "26d3590a-7277-435f-bffd-d85dd76e498c",
   "metadata": {},
   "outputs": [
    {
     "data": {
      "text/plain": [
       "array([[0, 2],\n",
       "       [1, 4]])"
      ]
     },
     "execution_count": 4,
     "metadata": {},
     "output_type": "execute_result"
    }
   ],
   "source": [
    "import numpy as np\n",
    "A=np.array([[1,2,3],[4,5,6],[7,8,9]])\n",
    "B=A=np.array([[0,2],[1,4]])\n",
    "A"
   ]
  },
  {
   "cell_type": "code",
   "execution_count": 2,
   "id": "af36836e-6755-49ab-8428-1c17656a1a0f",
   "metadata": {},
   "outputs": [
    {
     "data": {
      "text/plain": [
       "array([[ 0,  4],\n",
       "       [ 1, 16]])"
      ]
     },
     "execution_count": 2,
     "metadata": {},
     "output_type": "execute_result"
    }
   ],
   "source": [
    "A*B"
   ]
  },
  {
   "cell_type": "code",
   "execution_count": 5,
   "id": "3dea6028-9a44-4633-98fa-8feb17d83b91",
   "metadata": {},
   "outputs": [
    {
     "data": {
      "text/plain": [
       "array([[ 0,  4],\n",
       "       [ 1, 16]])"
      ]
     },
     "execution_count": 5,
     "metadata": {},
     "output_type": "execute_result"
    }
   ],
   "source": [
    "np.multiply(A,B)"
   ]
  },
  {
   "cell_type": "code",
   "execution_count": 9,
   "id": "7eb6a541-f624-479f-9cd6-37e4a1a860bd",
   "metadata": {},
   "outputs": [
    {
     "data": {
      "text/plain": [
       "array([[ 0.58333333,  0.75      , -1.08333333],\n",
       "       [-0.41666667, -0.25      ,  0.91666667],\n",
       "       [ 0.33333333, -0.        , -0.33333333]])"
      ]
     },
     "execution_count": 9,
     "metadata": {},
     "output_type": "execute_result"
    }
   ],
   "source": [
    "A=np.array([[1,3,5],[2,2,-1],[1,3,2]])\n",
    "A_inverse=np.linalg.inv(A)\n",
    "A_inverse"
   ]
  },
  {
   "cell_type": "code",
   "execution_count": 15,
   "id": "609b5282-b065-484c-8334-ca014d6305bb",
   "metadata": {},
   "outputs": [
    {
     "name": "stdout",
     "output_type": "stream",
     "text": [
      "[[ 1.  0.  0.]\n",
      " [-0.  1.  0.]\n",
      " [-0.  0.  1.]]\n"
     ]
    }
   ],
   "source": [
    "print(np.round(np.dot(A,A_inverse)))"
   ]
  },
  {
   "cell_type": "code",
   "execution_count": 6,
   "id": "2020f686-3c21-47be-8ab3-e3baf8279faa",
   "metadata": {},
   "outputs": [],
   "source": [
    "\n",
    "#GUSSIAN ELEMINATION METHOD\n",
    "#addition or subtraction of two eq. of rows\n",
    "#multiplication of an eq. by a no.\n",
    "#switching eq."
   ]
  },
  {
   "cell_type": "code",
   "execution_count": 17,
   "id": "2ba8aeb3-3b2a-46c5-8237-0e60559e4b1f",
   "metadata": {},
   "outputs": [],
   "source": [
    "M=np.array([[1,3,5],[2,2,-1],[1,3,2]])\n",
    "Y=np.array([[-1],[1],[2]])"
   ]
  },
  {
   "cell_type": "code",
   "execution_count": 19,
   "id": "0a9059ff-a514-4bd7-818a-ad511ea46757",
   "metadata": {},
   "outputs": [
    {
     "data": {
      "text/plain": [
       "array([[-2.],\n",
       "       [ 2.],\n",
       "       [-1.]])"
      ]
     },
     "execution_count": 19,
     "metadata": {},
     "output_type": "execute_result"
    }
   ],
   "source": [
    "S=np.linalg.solve(M,Y)\n",
    "S"
   ]
  },
  {
   "cell_type": "code",
   "execution_count": null,
   "id": "125844eb-a055-4748-945e-c774ba49accf",
   "metadata": {},
   "outputs": [],
   "source": [
    "#A set of n linearly independent column vectors with n elements froms a basis"
   ]
  }
 ],
 "metadata": {
  "kernelspec": {
   "display_name": "Python 3 (ipykernel)",
   "language": "python",
   "name": "python3"
  },
  "language_info": {
   "codemirror_mode": {
    "name": "ipython",
    "version": 3
   },
   "file_extension": ".py",
   "mimetype": "text/x-python",
   "name": "python",
   "nbconvert_exporter": "python",
   "pygments_lexer": "ipython3",
   "version": "3.11.5"
  }
 },
 "nbformat": 4,
 "nbformat_minor": 5
}
