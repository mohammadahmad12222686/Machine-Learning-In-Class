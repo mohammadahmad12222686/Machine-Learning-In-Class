{
 "cells": [
  {
   "cell_type": "code",
   "execution_count": null,
   "id": "b6fc550c-1ad9-474e-890b-b7c7d794bc42",
   "metadata": {},
   "outputs": [],
   "source": [
    "# Neuro fires: output=1\n",
    "# if summation(Inputs*Weight)>=threshold\n",
    "\n",
    "# Neuron does not fires: Output=0 if\n",
    "# Summation(inputs*weights)<Threshold"
   ]
  },
  {
   "cell_type": "code",
   "execution_count": null,
   "id": "49d56f93-eb5d-4c6d-b316-b0e684ea1a01",
   "metadata": {},
   "outputs": [],
   "source": [
    "Start Loop\n",
    "For each data in dataset-\n",
    "1.give input to perceptron "
   ]
  }
 ],
 "metadata": {
  "kernelspec": {
   "display_name": "Python 3 (ipykernel)",
   "language": "python",
   "name": "python3"
  },
  "language_info": {
   "codemirror_mode": {
    "name": "ipython",
    "version": 3
   },
   "file_extension": ".py",
   "mimetype": "text/x-python",
   "name": "python",
   "nbconvert_exporter": "python",
   "pygments_lexer": "ipython3",
   "version": "3.11.5"
  }
 },
 "nbformat": 4,
 "nbformat_minor": 5
}
